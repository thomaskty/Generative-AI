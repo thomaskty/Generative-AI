{
 "cells": [
  {
   "cell_type": "code",
   "execution_count": 1,
   "id": "2ed166db-3738-4228-9b17-9b278b2b1a2e",
   "metadata": {},
   "outputs": [],
   "source": [
    "! pip install -q --upgrade google-generativeai langchain-google-genai python-dotenv"
   ]
  },
  {
   "cell_type": "code",
   "execution_count": 2,
   "id": "e98a6afd-cba8-485f-bebb-95f94d8ce42f",
   "metadata": {},
   "outputs": [],
   "source": [
    "import os\n",
    "from langchain_openai import OpenAI\n",
    "from langchain_google_genai import ChatGoogleGenerativeAI"
   ]
  },
  {
   "cell_type": "code",
   "execution_count": 5,
   "id": "c5c72f52-4e39-43c4-926a-eb80be6d1e53",
   "metadata": {},
   "outputs": [],
   "source": [
    "LANGCHAIN_API = os.environ.get('LANGCHAIN_API')\n",
    "OPENAI_API = os.environ.get('OPENAI_API') \n",
    "GOOGLE_AISTUDIO_API = os.environ.get('GOOGLE_AISTUDIO_API')\n",
    "\n",
    "# llm = OpenAI(temperature=0.8,openai_api_key=OPENAI_API)"
   ]
  },
  {
   "cell_type": "code",
   "execution_count": 7,
   "id": "9e49dc5d-a825-4444-9b9b-b58ed3b8a270",
   "metadata": {},
   "outputs": [],
   "source": [
    "from IPython.display import display\n",
    "from IPython.display import Markdown\n",
    "import textwrap\n",
    "\n",
    "def to_markdown(text):\n",
    "  text = text.replace('•', '  *')\n",
    "  return Markdown(textwrap.indent(text, '> ', predicate=lambda _: True))"
   ]
  },
  {
   "cell_type": "code",
   "execution_count": 9,
   "id": "52e768b9-ebe9-49ea-a8df-5cabc6894a2d",
   "metadata": {},
   "outputs": [],
   "source": [
    "llm = ChatGoogleGenerativeAI(model=\"gemini-pro\",google_api_key=GOOGLE_AISTUDIO_API)\n",
    "result = llm.invoke(\"What is the best practice to feel happy about life?\")"
   ]
  },
  {
   "cell_type": "code",
   "execution_count": 10,
   "id": "e7eb785a-e746-4271-bb7d-41cb20fa91d0",
   "metadata": {},
   "outputs": [
    {
     "data": {
      "text/plain": [
       "langchain_openai.llms.base.OpenAI"
      ]
     },
     "execution_count": 10,
     "metadata": {},
     "output_type": "execute_result"
    }
   ],
   "source": [
    "OpenAI"
   ]
  },
  {
   "cell_type": "code",
   "execution_count": 13,
   "id": "a54c8878-9d64-4103-83fe-30d325f64e46",
   "metadata": {
    "scrolled": true
   },
   "outputs": [
    {
     "data": {
      "text/markdown": [
       "> **Best Practices to Enhance Happiness in Life**\n",
       "> \n",
       "> **1. Cultivate Gratitude:**\n",
       "> * Regularly express appreciation for the positive aspects of your life, both big and small.\n",
       "> * Keep a gratitude journal or share your thoughts with others.\n",
       "> * Focus on the present moment and savor the good things you have.\n",
       "> \n",
       "> **2. Practice Optimism:**\n",
       "> * Train your brain to see the glass half full.\n",
       "> * Challenge negative thoughts and replace them with positive ones.\n",
       "> * Surround yourself with optimistic people and engage in uplifting activities.\n",
       "> \n",
       "> **3. Build Meaningful Relationships:**\n",
       "> * Nurture strong connections with family, friends, and loved ones.\n",
       "> * Engage in social activities that bring you joy.\n",
       "> * Support and uplift those around you.\n",
       "> \n",
       "> **4. Engage in Activities that Bring Joy:**\n",
       "> * Pursue hobbies, interests, and passions that ignite your passion.\n",
       "> * Set aside time for activities that make you happy, regardless of how small.\n",
       "> * Find ways to incorporate enjoyable elements into your daily routine.\n",
       "> \n",
       "> **5. Practice Self-Care:**\n",
       "> * Prioritize your physical, mental, and emotional well-being.\n",
       "> * Get enough sleep, exercise regularly, and eat a healthy diet.\n",
       "> * Engage in activities that reduce stress and promote relaxation.\n",
       "> \n",
       "> **6. Set Achievable Goals:**\n",
       "> * Establish realistic goals that motivate you and give you a sense of purpose.\n",
       "> * Break down large goals into smaller, manageable steps.\n",
       "> * Celebrate your successes, no matter how small.\n",
       "> \n",
       "> **7. Embrace Challenges:**\n",
       "> * View challenges as opportunities for growth and learning.\n",
       "> * Develop resilience and coping mechanisms to navigate difficult situations.\n",
       "> * Seek support from others when needed.\n",
       "> \n",
       "> **8. Practice Mindfulness:**\n",
       "> * Pay attention to the present moment without judgment.\n",
       "> * Focus on your thoughts, feelings, and sensations.\n",
       "> * Mindfulness can reduce stress, increase self-awareness, and enhance appreciation for the present.\n",
       "> \n",
       "> **9. Seek Professional Help When Needed:**\n",
       "> * Don't hesitate to reach out to a therapist or counselor if you struggle with persistent feelings of unhappiness.\n",
       "> * They can provide support, guidance, and tools to improve your well-being.\n",
       "> \n",
       "> **10. Remember that Happiness is a Journey:**\n",
       "> * Happiness is not a constant state but rather a journey with ups and downs.\n",
       "> * Focus on the process of cultivating happiness rather than the end result.\n",
       "> * Be patient with yourself and don't give up during challenging times."
      ],
      "text/plain": [
       "<IPython.core.display.Markdown object>"
      ]
     },
     "execution_count": 13,
     "metadata": {},
     "output_type": "execute_result"
    }
   ],
   "source": [
    "response_text = result.content\n",
    "# print(response_text.replace(',','\\n').replace('.','\\n'))\n",
    "to_markdown(result.content)"
   ]
  },
  {
   "cell_type": "code",
   "execution_count": 5,
   "id": "56226b58-859a-41cb-a455-5868f3ae20bd",
   "metadata": {},
   "outputs": [],
   "source": []
  },
  {
   "cell_type": "code",
   "execution_count": 9,
   "id": "0515c061-4216-4362-ba28-007910a43df2",
   "metadata": {},
   "outputs": [],
   "source": [
    "# LANGCHAIN_API,OPENAI_API,GOOGLE_AISTUDIO_API"
   ]
  },
  {
   "cell_type": "code",
   "execution_count": 10,
   "id": "082d2bbe-e43c-4be3-a0b7-7ab8e4efb1dd",
   "metadata": {},
   "outputs": [],
   "source": []
  },
  {
   "cell_type": "code",
   "execution_count": 11,
   "id": "ce22bfb3-cdd2-46b5-9f0a-8e9a7eeb54d3",
   "metadata": {},
   "outputs": [
    {
     "data": {
      "text/plain": [
       "OpenAI(client=<openai.resources.completions.Completions object at 0x106be6620>, async_client=<openai.resources.completions.AsyncCompletions object at 0x1072925c0>, temperature=0.8, openai_api_key=SecretStr('**********'), openai_proxy='')"
      ]
     },
     "execution_count": 11,
     "metadata": {},
     "output_type": "execute_result"
    }
   ],
   "source": [
    "llm"
   ]
  },
  {
   "cell_type": "code",
   "execution_count": 13,
   "id": "a8b8b11b",
   "metadata": {},
   "outputs": [
    {
     "name": "stdout",
     "output_type": "stream",
     "text": [
      "Error code: 429 - {'error': {'message': 'You exceeded your current quota, please check your plan and billing details. For more information on this error, read the docs: https://platform.openai.com/docs/guides/error-codes/api-errors.', 'type': 'insufficient_quota', 'param': None, 'code': 'insufficient_quota'}}\n"
     ]
    }
   ],
   "source": [
    "try:\n",
    "    text=  'what are the five vacation destinations for someone who likes to eat pasta?'\n",
    "    output = llm(text)\n",
    "    print(output)\n",
    "except Exception as e:\n",
    "    print(e)"
   ]
  },
  {
   "cell_type": "code",
   "execution_count": null,
   "id": "f57bc219-822f-402e-880a-390da731dcc3",
   "metadata": {},
   "outputs": [],
   "source": []
  },
  {
   "cell_type": "code",
   "execution_count": null,
   "id": "fde76b4e-c4a6-4539-84db-46cd894d7082",
   "metadata": {},
   "outputs": [],
   "source": []
  },
  {
   "cell_type": "code",
   "execution_count": null,
   "id": "95d6c0ac-67d8-401f-bdad-6fbe68b53011",
   "metadata": {},
   "outputs": [],
   "source": []
  },
  {
   "cell_type": "code",
   "execution_count": null,
   "id": "84d3bee3-bccf-45ca-adee-ea1589c4efea",
   "metadata": {},
   "outputs": [],
   "source": []
  },
  {
   "cell_type": "code",
   "execution_count": null,
   "id": "5acbe21e-8524-445a-a005-41f1b44645df",
   "metadata": {},
   "outputs": [],
   "source": []
  }
 ],
 "metadata": {
  "kernelspec": {
   "display_name": "Python 3 (ipykernel)",
   "language": "python",
   "name": "python3"
  },
  "language_info": {
   "codemirror_mode": {
    "name": "ipython",
    "version": 3
   },
   "file_extension": ".py",
   "mimetype": "text/x-python",
   "name": "python",
   "nbconvert_exporter": "python",
   "pygments_lexer": "ipython3",
   "version": "3.10.0"
  }
 },
 "nbformat": 4,
 "nbformat_minor": 5
}
