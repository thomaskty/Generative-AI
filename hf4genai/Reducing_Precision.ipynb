{
  "nbformat": 4,
  "nbformat_minor": 0,
  "metadata": {
    "colab": {
      "provenance": []
    },
    "kernelspec": {
      "name": "python3",
      "display_name": "Python 3"
    },
    "language_info": {
      "name": "python"
    }
  },
  "cells": [
    {
      "cell_type": "code",
      "execution_count": null,
      "metadata": {
        "id": "qAsaMZtAHLop"
      },
      "outputs": [],
      "source": [
        "import torch"
      ]
    },
    {
      "cell_type": "code",
      "source": [
        "value = 7 + (1/3)\n",
        "value"
      ],
      "metadata": {
        "id": "RulcpiqBHPzn",
        "colab": {
          "base_uri": "https://localhost:8080/"
        },
        "outputId": "ec5ffd76-00d0-4473-d894-9f7b4a1bfda5"
      },
      "execution_count": null,
      "outputs": [
        {
          "output_type": "execute_result",
          "data": {
            "text/plain": [
              "7.333333333333333"
            ]
          },
          "metadata": {},
          "execution_count": 8
        }
      ]
    },
    {
      "cell_type": "code",
      "source": [
        "tensor_fp64 = torch.tensor(value, dtype = torch.float64)\n",
        "tensor_fp32 = torch.tensor(value, dtype = torch.float32)\n",
        "tensor_fp16 = torch.tensor(value, dtype = torch.float16)\n",
        "tensor_bf16 = torch.tensor(value, dtype = torch.bfloat16)\n",
        "tensor_int8 = torch.tensor(value, dtype = torch.int8)"
      ],
      "metadata": {
        "id": "y_fIIyfFHUF8"
      },
      "execution_count": null,
      "outputs": []
    },
    {
      "cell_type": "code",
      "source": [
        "print(f\"fp64: {format(tensor_fp64.item(), '.60f')}\")\n",
        "print(f\"fp32: {format(tensor_fp32.item(), '.60f')}\")\n",
        "print(f\"fp16: {format(tensor_fp16.item(), '.60f')}\")\n",
        "print(f\"bf16: {format(tensor_bf16.item(), '.60f')}\")\n",
        "print(f\"int8: {format(tensor_int8.item(), '.60f')}\")"
      ],
      "metadata": {
        "colab": {
          "base_uri": "https://localhost:8080/"
        },
        "id": "qIejE-YnHlMS",
        "outputId": "b8e584ed-8602-4a2d-f6e2-01be209e4d0e"
      },
      "execution_count": null,
      "outputs": [
        {
          "output_type": "stream",
          "name": "stdout",
          "text": [
            "fp64: 7.333333333333333037273860099958255887031555175781250000000000\n",
            "fp32: 7.333333492279052734375000000000000000000000000000000000000000\n",
            "fp16: 7.332031250000000000000000000000000000000000000000000000000000\n",
            "bf16: 7.343750000000000000000000000000000000000000000000000000000000\n",
            "int8: 7.000000000000000000000000000000000000000000000000000000000000\n"
          ]
        }
      ]
    },
    {
      "cell_type": "code",
      "source": [
        "def calculate_memory(tensor):\n",
        "    return tensor.element_size() * tensor.nelement()\n",
        "\n",
        "# Calculate and print the memory requirements\n",
        "print(f\"fp64 memory: {calculate_memory(tensor_fp64)} bytes\")\n",
        "print(f\"fp32 memory: {calculate_memory(tensor_fp32)} bytes\")\n",
        "print(f\"fp16 memory: {calculate_memory(tensor_fp16)} bytes\")\n",
        "print(f\"bf16 memory: {calculate_memory(tensor_bf16)} bytes\")\n",
        "print(f\"int8 memory: {calculate_memory(tensor_int8)} byte\")"
      ],
      "metadata": {
        "colab": {
          "base_uri": "https://localhost:8080/"
        },
        "id": "XTyJ9bl8H8bn",
        "outputId": "c6c4ee7e-d303-4a8f-c1c4-a5300430d63d"
      },
      "execution_count": null,
      "outputs": [
        {
          "output_type": "stream",
          "name": "stdout",
          "text": [
            "fp64 memory: 8 bytes\n",
            "fp32 memory: 4 bytes\n",
            "fp16 memory: 2 bytes\n",
            "bf16 memory: 2 bytes\n",
            "int8 memory: 1 byte\n"
          ]
        }
      ]
    },
    {
      "cell_type": "code",
      "source": [],
      "metadata": {
        "id": "gu6v2vlzIObd"
      },
      "execution_count": null,
      "outputs": []
    }
  ]
}